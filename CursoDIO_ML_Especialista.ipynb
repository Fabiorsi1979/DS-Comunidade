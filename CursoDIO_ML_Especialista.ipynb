{
  "nbformat": 4,
  "nbformat_minor": 0,
  "metadata": {
    "colab": {
      "provenance": [],
      "authorship_tag": "ABX9TyMfTIQhl3ie2wE26MSQmC6Z",
      "include_colab_link": true
    },
    "kernelspec": {
      "name": "python3",
      "display_name": "Python 3"
    },
    "language_info": {
      "name": "python"
    }
  },
  "cells": [
    {
      "cell_type": "markdown",
      "metadata": {
        "id": "view-in-github",
        "colab_type": "text"
      },
      "source": [
        "<a href=\"https://colab.research.google.com/github/Fabiorsi1979/DS-Comunidade/blob/main/CursoDIO_ML_Especialista.ipynb\" target=\"_parent\"><img src=\"https://colab.research.google.com/assets/colab-badge.svg\" alt=\"Open In Colab\"/></a>"
      ]
    },
    {
      "cell_type": "markdown",
      "source": [
        "## Primeiro trabalho com Machine Learning"
      ],
      "metadata": {
        "id": "DlnHJCMuuQZ2"
      }
    },
    {
      "cell_type": "code",
      "source": [
        "import matplotlib\n",
        "from sklearn.datasets import make_regression"
      ],
      "metadata": {
        "id": "k4iNEGARucEV"
      },
      "execution_count": 2,
      "outputs": []
    },
    {
      "cell_type": "code",
      "source": [
        "x,y= make_regression(n_samples=200, n_features=1, noise=30)"
      ],
      "metadata": {
        "id": "DjCBqldfuqfk"
      },
      "execution_count": 4,
      "outputs": []
    },
    {
      "cell_type": "code",
      "source": [],
      "metadata": {
        "id": "KuGmYEsMvN7I"
      },
      "execution_count": null,
      "outputs": []
    }
  ]
}